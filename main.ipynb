{
 "cells": [
  {
   "cell_type": "markdown",
   "metadata": {},
   "source": [
    "# Requirements"
   ]
  },
  {
   "cell_type": "code",
   "execution_count": null,
   "metadata": {},
   "outputs": [],
   "source": [
    "import matplotlib.pyplot as plt\n",
    "import plotly.graph_objects as go  # Import the data visualization tool plotly\n",
    "from plotly.subplots import make_subplots  # Import make_subplots for subplots\n",
    "import yfinance as yf"
   ]
  },
  {
   "cell_type": "markdown",
   "metadata": {},
   "source": [
    "## Loading Dataset"
   ]
  },
  {
   "cell_type": "code",
   "execution_count": null,
   "metadata": {},
   "outputs": [],
   "source": [
    "natgas = yf.Ticker(\"NG=F\")\n",
    "gas = natgas.history(interval=\"1d\", start=\"2024-01-02\")"
   ]
  },
  {
   "cell_type": "markdown",
   "metadata": {},
   "source": [
    "## Summarize the Data"
   ]
  },
  {
   "cell_type": "code",
   "execution_count": null,
   "metadata": {},
   "outputs": [],
   "source": [
    "# summarize the data\n",
    "def summary(df):\n",
    "    data_summary = df.describe()\n",
    "    return data_summary\n",
    "\n",
    "\n",
    "summary(gas)"
   ]
  },
  {
   "cell_type": "markdown",
   "metadata": {},
   "source": [
    "## Data Visualisations"
   ]
  },
  {
   "cell_type": "code",
   "execution_count": null,
   "metadata": {},
   "outputs": [],
   "source": [
    "def chart(df):\n",
    "    plt.figure(figsize=(10, 4))\n",
    "    plt.plot(df[\"Close\"], linewidth=1.5, color=\"b\")\n",
    "    plt.xlabel(\"Time\")\n",
    "    plt.ylabel(\"Price\")\n",
    "    plt.show()\n",
    "\n",
    "\n",
    "chart(gas)"
   ]
  },
  {
   "cell_type": "code",
   "execution_count": null,
   "metadata": {},
   "outputs": [],
   "source": [
    "def candlestick(df):\n",
    "    cstick = go.Candlestick(\n",
    "        x=df.index,  # Dates as x data\n",
    "        open=df[\"Open\"],  # Open prices\n",
    "        close=df[\"Close\"],  # Close prices\n",
    "        high=df[\"High\"],  # High prices\n",
    "        low=df[\"Low\"],  # Low prices\n",
    "        name=\"NAT_GAS\",\n",
    "    )  # Label of the graph\n",
    "\n",
    "    figure = go.Figure()  # Create a Figure\n",
    "    figure.add_trace(cstick)  # Attach the graph to the figure\n",
    "    # figure.show()\n",
    "\n",
    "    figure = make_subplots(specs=[[{\"secondary_y\": True}]])\n",
    "\n",
    "    cstick = go.Candlestick(\n",
    "        x=df.index,  # Dates as x data\n",
    "        open=df[\"Open\"],  # Open prices\n",
    "        close=df[\"Close\"],  # Close prices\n",
    "        high=df[\"High\"],  # High prices\n",
    "        low=df[\"Low\"],  # Low prices\n",
    "        name=\"NAT_GAS\",\n",
    "    )  # Label of the graph\n",
    "\n",
    "    maline1 = go.Scatter(\n",
    "        x=df.index,\n",
    "        y=df[\"Close\"].rolling(5).mean(),\n",
    "        line={\"color\": \"blue\", \"width\": 1},\n",
    "        name=\"5-day moving average\",\n",
    "    )\n",
    "    maline2 = go.Scatter(\n",
    "        x=df.index,\n",
    "        y=df[\"Close\"].rolling(10).mean(),\n",
    "        line={\"color\": \"orange\", \"width\": 1},\n",
    "        name=\"10-day moving average\",\n",
    "    )\n",
    "    vbar = go.Bar(x=df.index, y=df[\"Volume\"], name=\"Volume\")\n",
    "\n",
    "    figure.add_trace(cstick)  # Attach the candelstick to the figure\n",
    "    figure.add_trace(maline1)  # Attach the MA curve to the figure\n",
    "    figure.add_trace(maline2)  # Attach the MA curve to the figure\n",
    "    figure.add_trace(vbar, secondary_y=True)  # Attach the volume bar to the figure\n",
    "\n",
    "    figure.update_yaxes(\n",
    "        range=[0, 11], title=\"Price\", secondary_y=False\n",
    "    )  # Properties of the y-axis on the left\n",
    "    figure.update_yaxes(\n",
    "        range=[0, 8e8],\n",
    "        tickvals=list(range(0, 200000000, 50000000)),\n",
    "        showgrid=False,\n",
    "        title=\"Volume\",\n",
    "        secondary_y=True,\n",
    "    )  # Properties of the y-axis on the right\n",
    "    # figure.show()\n",
    "    return figure\n",
    "\n",
    "\n",
    "candlestick(gas)"
   ]
  }
 ],
 "metadata": {
  "kernelspec": {
   "display_name": "base",
   "language": "python",
   "name": "python3"
  },
  "language_info": {
   "codemirror_mode": {
    "name": "ipython",
    "version": 3
   },
   "file_extension": ".py",
   "mimetype": "text/x-python",
   "name": "python",
   "nbconvert_exporter": "python",
   "pygments_lexer": "ipython3",
   "version": "3.12.5"
  }
 },
 "nbformat": 4,
 "nbformat_minor": 2
}
